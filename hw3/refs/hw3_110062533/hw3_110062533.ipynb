{
 "cells": [
  {
   "cell_type": "markdown",
   "id": "f0bec262",
   "metadata": {},
   "source": [
    "# Numerical Optimization (CS215300) Assignment 3\n",
    "## Introduction\n",
    "In this assignment, we expect you to be able to solve constrained optimization problem by Scipy library. We want you to apply two algorithms on the following problem as benchmark, survey the method used in these libraries, and analysis the behaviour of these algorithms.\n",
    "The library document link: https://docs.scipy.org/doc/scipy/reference/tutorial/optimize.html\n",
    "\n",
    "## Task\n",
    "1. Please solve the following problrem by using trust-constr method:\n",
    "$$\\begin{array}{lll}\n",
    "        \\min_{x_1,x_2} & f(x_1,x_2)=-x_1-x_2 \\\\\n",
    "        \\mbox{s.t. } & -2x_1^4 + 8x_1^3 -8x_1^2 + x_2 - 2 \\le 0  \\\\\n",
    "         & -4x_1^4 + 32x_1^3 - 88x_1^2 + 96x_1 + x_2 -36 \\le 0   \\\\\n",
    "         & 0 \\le x_1 \\le 3 \\\\\n",
    "         & 0 \\le x_2 \\le 4 \\\\\n",
    "\\end{array}$$\n",
    "2. Please use COBYLA method to solve the same problem.\n",
    "3. In your report, please read the paper cited in the libraries, which gives the details of the algorithms. Write a brief introduction of the algorithms, and compare their behaviours in this benchmark. You are not necessarily to read the original paper, other resourses (ex. slides from other schools or surveys) are also acceptable, please include the link or paper name in your reference if you referred other resources.\n",
    "4. Please provide the Jacobian and Hessian function in matrix form in your report. Basic latex syntax is supported in Markdown.\n",
    "5. Rename this notebook file with your student ID and upload it to eeclass platform. (ex. 107xxxxxx.ipynb)"
   ]
  },
  {
   "cell_type": "code",
   "execution_count": 1,
   "id": "b7f31ca1",
   "metadata": {},
   "outputs": [],
   "source": [
    "%matplotlib inline\n",
    "import matplotlib.pyplot as plt\n",
    "import numpy as np"
   ]
  },
  {
   "cell_type": "code",
   "execution_count": 2,
   "id": "28c4576b",
   "metadata": {},
   "outputs": [],
   "source": [
    "from scipy.optimize import Bounds\n",
    "from scipy.optimize import NonlinearConstraint\n",
    "from scipy.optimize import minimize"
   ]
  },
  {
   "cell_type": "markdown",
   "id": "775ed834",
   "metadata": {},
   "source": [
    "### Define objective function"
   ]
  },
  {
   "cell_type": "code",
   "execution_count": 3,
   "id": "440deba9",
   "metadata": {},
   "outputs": [],
   "source": [
    "def f(x):\n",
    "    # TODO\n",
    "    return -x[0]-x[1]"
   ]
  },
  {
   "cell_type": "markdown",
   "id": "7e0f33fa",
   "metadata": {},
   "source": [
    "### Define constraint functions and derivatives\n",
    "Note: Please not use sparse matrices."
   ]
  },
  {
   "cell_type": "code",
   "execution_count": 4,
   "id": "36a59ae9",
   "metadata": {},
   "outputs": [],
   "source": [
    "# TODO: derive and define the functions\n",
    "def cons_f(x):\n",
    "    # TODO\n",
    "    return [-2*x[0]**4 +  8*x[0]**3 -  8*x[0]**2           + x[1] -  2,\n",
    "            -4*x[0]**4 + 32*x[0]**3 - 88*x[0]**2 + 96*x[0] + x[1] - 36]\n",
    "    \n",
    "def cons_Jacobian(x):\n",
    "    # TODO\n",
    "    return [[ -8*x[0]**3 + 24*x[0]**2 -  16*x[0]     , 1],\n",
    "            [-16*x[0]**3 + 96*x[0]**2 - 176*x[0] + 96, 1]]\n",
    "\n",
    "def cons_Hessian(x, v):\n",
    "    # TODO\n",
    "    return v[0]*np.array([[ -24*x[0]**2 +  48*x[0] -  16, 0],  [0, 0]]) +\\\n",
    "           v[1]*np.array([[ -48*x[0]**2 + 192*x[0] - 176, 0],  [0, 0]])\n",
    "            \n",
    "\n",
    "# TODO: Insert the functions above into a NonlinearConstraint obeject\n",
    "nonlinear_constraint = NonlinearConstraint(cons_f, -np.inf, 0, jac=cons_Jacobian, hess=cons_Hessian)"
   ]
  },
  {
   "cell_type": "markdown",
   "id": "c9ce2e0b",
   "metadata": {},
   "source": [
    "### Define the bounds "
   ]
  },
  {
   "cell_type": "code",
   "execution_count": 5,
   "id": "085919ad",
   "metadata": {},
   "outputs": [],
   "source": [
    "# TODO: define the bounds\n",
    "bounds = Bounds([0, 0], [3.0, 4.0])"
   ]
  },
  {
   "cell_type": "markdown",
   "id": "d473ff21",
   "metadata": {},
   "source": [
    "### Call the minimize library"
   ]
  },
  {
   "cell_type": "code",
   "execution_count": 6,
   "id": "35324296",
   "metadata": {},
   "outputs": [],
   "source": [
    "fun_der = lambda x: np.array([-1.0, -1.0])\n",
    "fun_hess = lambda x: np.zeros((2,2))\n",
    "\n",
    "x0 = np.array([0., 0.])\n",
    "\n",
    "res = minimize(f, x0, method='trust-constr', jac=fun_der, hess=fun_hess,\n",
    "               constraints=[nonlinear_constraint],bounds=bounds)"
   ]
  },
  {
   "cell_type": "markdown",
   "id": "a239dd79",
   "metadata": {},
   "source": [
    "### Print out the result you get"
   ]
  },
  {
   "cell_type": "code",
   "execution_count": 7,
   "id": "8a676836",
   "metadata": {},
   "outputs": [
    {
     "name": "stdout",
     "output_type": "stream",
     "text": [
      "[0.61157004 3.44188615]\n"
     ]
    }
   ],
   "source": [
    "print(res.x)"
   ]
  },
  {
   "cell_type": "markdown",
   "id": "437612a7",
   "metadata": {},
   "source": [
    "### Apply COBYLA method\n",
    "* COBYLA doesn't support variable bounds explicitly, but we can formulate the bounds in the context of the genral constraints.\n",
    "    * ref.: https://stackoverflow.com/questions/12781622/does-scipys-minimize-function-with-method-cobyla-accept-bounds"
   ]
  },
  {
   "cell_type": "code",
   "execution_count": 12,
   "id": "6f50497d",
   "metadata": {},
   "outputs": [
    {
     "name": "stdout",
     "output_type": "stream",
     "text": [
      "[0.61160344 3.44210482]\n"
     ]
    }
   ],
   "source": [
    "# TODO: Insert the functions above into a NonlinearConstraint obeject\n",
    "nonlinear_constraint = NonlinearConstraint(cons_f, -np.inf, 0, jac=cons_Jacobian)\n",
    "\n",
    "#lower and upper bound for variables\n",
    "bounds = [[0, 3.0], [0, 4.0]]\n",
    "\n",
    "cons = []\n",
    "for factor in range(len(bounds)):\n",
    "    lower, upper = bounds[factor]\n",
    "    l = {'type': 'ineq',\n",
    "         'fun': lambda x, lb=lower, i=factor: x[i] - lb}\n",
    "    u = {'type': 'ineq',\n",
    "         'fun': lambda x, ub=upper, i=factor: ub - x[i]}\n",
    "    cons.append(l)\n",
    "    cons.append(u)\n",
    "\n",
    "cons.append(nonlinear_constraint)\n",
    "\n",
    "res = minimize(f, x0, method='COBYLA', \n",
    "               constraints=cons)\n",
    "print(res.x)"
   ]
  },
  {
   "cell_type": "markdown",
   "id": "14f82a78",
   "metadata": {},
   "source": [
    "## Report"
   ]
  },
  {
   "cell_type": "markdown",
   "id": "4bd1ce89",
   "metadata": {},
   "source": [
    "###  Type your report here. 中英文皆可\n",
    "Method COBYLA uses the Constrained Optimization BY Linear Approximation (COBYLA) method [9], [10], [11]. The algorithm is based on linear approximations to the objective function and each constraint. The method wraps a FORTRAN implementation of the algorithm. The constraints functions ‘fun’ may return either a single number or an array or list of numbers."
   ]
  },
  {
   "cell_type": "code",
   "execution_count": null,
   "id": "589b2810",
   "metadata": {},
   "outputs": [],
   "source": []
  }
 ],
 "metadata": {
  "kernelspec": {
   "display_name": "Python 3",
   "language": "python",
   "name": "python3"
  },
  "language_info": {
   "codemirror_mode": {
    "name": "ipython",
    "version": 3
   },
   "file_extension": ".py",
   "mimetype": "text/x-python",
   "name": "python",
   "nbconvert_exporter": "python",
   "pygments_lexer": "ipython3",
   "version": "3.8.5"
  }
 },
 "nbformat": 4,
 "nbformat_minor": 5
}
